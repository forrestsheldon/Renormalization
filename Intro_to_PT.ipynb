{
 "metadata": {
  "name": ""
 },
 "nbformat": 3,
 "nbformat_minor": 0,
 "worksheets": [
  {
   "cells": [
    {
     "cell_type": "heading",
     "level": 1,
     "metadata": {},
     "source": [
      "Introduction to Phase Transitions"
     ]
    },
    {
     "cell_type": "heading",
     "level": 3,
     "metadata": {},
     "source": [
      "What is a Phase Transition"
     ]
    },
    {
     "cell_type": "markdown",
     "metadata": {},
     "source": [
      "The most familiar phase transitions occur between the phases of water.  At these points, the properties of the system change, often discontinuously.  As in statistical mechanics, we obtain the physical properties of the system from the free energy,\n",
      "$$F = -k_B T \\ln{Z}$$\n",
      "these discontinuities should be reflected in discontinuities of $F$ or its derivatives."
     ]
    },
    {
     "cell_type": "heading",
     "level": 3,
     "metadata": {},
     "source": [
      "A Classification of Phase Transitions"
     ]
    },
    {
     "cell_type": "markdown",
     "metadata": {},
     "source": [
      "* **1st-order** (Ex. Liquid Vapor transition in water) In crossing a coexistence curve, the physical properties of the system change discontinuously.  These changes should be reflected as discontinuities in the first derivatives of the free energy.  Transitions of this sort are generally due to some level crossing phenomenon in the system's free energy.  When two states have free energies that cross, the system will select the lower curve and change states.  As such, these transitions generally depend on the specifics of the system's structure/microscopic model.  INCLUDE PICTURE\n",
      "\n",
      "* **2nd-order** (Ex. FM (Ferromagnet) - PM (Paramagnet) transition in Ising Model, Binary Mixtures) Discontinuities in the higher order derivatives of $F$ also lead to phase transitions.  These are generally related to an order-disorder transition and thus spontaneous symmetry breaking in the ordered phase.  Most often the discontinuities occur in the 2nd derivative (although I understand there are problems with this classification scheme and for that reason these are often referred to a continuous phase transitions).  In this case, the limiting behavior at the transition point depends only on the dimensionality of the space and the dimension of the order parameter-a phenomenon known as universality.\n",
      "\n",
      "* **Kosterlitz-Thouliss** or infinite-order phase transitions.  In these transitions all finite derivatives are continuous, but the free energy contains a singular term proportional to\n",
      "$$F_S \\propto e^{-\\frac{J}{T - T_{KS}}}$$\n",
      "which contains an essential singularity as $T\\to T_{KS}$"
     ]
    },
    {
     "cell_type": "heading",
     "level": 4,
     "metadata": {},
     "source": [
      "Can Statistical Mechanics describe PT?"
     ]
    },
    {
     "cell_type": "markdown",
     "metadata": {},
     "source": [
      "Clearly our modern perspective is yes, but early on, there was some doubt; The partition function,\n",
      "$$Z = \\sum_i e^{-\\beta E_i}$$\n",
      "is a sum of functions smooth to all orders and positive and the free energy is an analytic function of $Z$.  How can we possibly get discontinuities?\n",
      "\n",
      "The answer came from 2 papers (or was explained by, I'm not sure) by Lee and Yang in the early 1950s.  In these paper's they explained that parameters which are real in statistical mechanics may have zeros in the complex plane.  A particular example from their paper concerns the fugacity $z = e^{-\\beta \\mu}$ in the GPF $ \\Xi = \\sum_n z^n Q(\\beta, V)$. If $\\mu$ is allowed to take on complex values, singularities are found in a circle enclosing the origin.  In the limit of large system size, the number of zeroes increases and they approach the real axis.  This cuts off the function at the origin from an analytical continuation through the circle and inserts the discontinuity."
     ]
    }
   ],
   "metadata": {}
  }
 ]
}