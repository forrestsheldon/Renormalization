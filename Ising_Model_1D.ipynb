{
 "metadata": {
  "name": ""
 },
 "nbformat": 3,
 "nbformat_minor": 0,
 "worksheets": [
  {
   "cells": [
    {
     "cell_type": "heading",
     "level": 1,
     "metadata": {},
     "source": [
      "The Ising Model in 1 Dimension"
     ]
    },
    {
     "cell_type": "heading",
     "level": 3,
     "metadata": {},
     "source": [
      "The Ising Model"
     ]
    },
    {
     "cell_type": "markdown",
     "metadata": {},
     "source": [
      "$$H = -J\\sum_{<ij>} \\sigma_i \\sigma_j - h\\sum_i \\sigma_i$$\n",
      "$$\\sigma_i = \\pm 1$$\n",
      "\n",
      "Lenz (of Lenz's law) proposed the 1D model to his student Ising as his Ph.D. thesis topic, most likely as a model that should show a phase transition.  We imagine a lattice of arrows that are restricted to point either up or down.  The influence of one arrow on another is short ranged such that only neighbors are included in the sum.  If $J$ is positive, configurations in which two arrow point in the same direction are favored.  In this sense, we can consider it to be a simple model for a ferromagnet.  It's physical origins are quite interesting and I will devote some time later to compiling and discussing them.  For now though, we will focus on solving it."
     ]
    },
    {
     "cell_type": "heading",
     "level": 3,
     "metadata": {},
     "source": [
      "FM-PM transitions"
     ]
    },
    {
     "cell_type": "markdown",
     "metadata": {},
     "source": [
      "Ising solved the 1D case and found that it did not exhibit a phase transition."
     ]
    }
   ],
   "metadata": {}
  }
 ]
}