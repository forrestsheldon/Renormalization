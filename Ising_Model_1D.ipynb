{
 "metadata": {
  "name": ""
 },
 "nbformat": 3,
 "nbformat_minor": 0,
 "worksheets": [
  {
   "cells": [
    {
     "cell_type": "heading",
     "level": 1,
     "metadata": {},
     "source": [
      "The Ising Model in 1 Dimension"
     ]
    },
    {
     "cell_type": "heading",
     "level": 3,
     "metadata": {},
     "source": [
      "The Ising Model"
     ]
    },
    {
     "cell_type": "markdown",
     "metadata": {},
     "source": [
      "$$H = -J\\sum_{<ij>} \\sigma_i \\sigma_j - h\\sum_i \\sigma_i$$\n",
      "$$\\sigma_i = \\pm 1$$\n",
      "\n",
      "Lenz (of Lenz's law) proposed the 1D model to his student Ising as his Ph.D. thesis topic, most likely as a model that should show a phase transition.  We imagine a lattice of arrows that are restricted to point either up or down.  The influence of one arrow on another is short ranged such that only neighbors are included in the sum.  If $J$ is positive, configurations in which two arrow point in the same direction are favored.  In this sense, we can consider it to be a simple model for a ferromagnet.  It's physical origins are quite interesting and I will devote some time later to compiling and discussing them.  For now though, we will focus on solving it."
     ]
    },
    {
     "cell_type": "heading",
     "level": 3,
     "metadata": {},
     "source": [
      "FM-PM transitions"
     ]
    },
    {
     "cell_type": "markdown",
     "metadata": {},
     "source": [
      "Ising solved the 1D case and found that it did not exhibit a phase transition.  Before solving the model directly, it is pleasing to work through an intuitive argument for why it does not exhibit a phase transition (at finite temperature)."
     ]
    },
    {
     "cell_type": "heading",
     "level": 5,
     "metadata": {},
     "source": [
      "Intuitive Explanation for Lack of Phase Transition"
     ]
    },
    {
     "cell_type": "markdown",
     "metadata": {},
     "source": [
      "Consider a 1D chain of N spins in the ground state.  The multiplicity of this state is 2.  The first excited state comes in the form of a kink.  This is a topological change in the system that reduces the magnetization to 0. (Think of a topological change as an excitation with a global effect.) The kinked state possesses an energy of $\\Delta E = 2J$ above the ground state and it's multiplicity is $2(N-1)$.  Considering the probabilities of the respective states, $\\frac{P_{kink}}{P_{GS}} = (N-1)e^{2\\beta J}$.  In the thermodynamic limit, the probability of an excited state with no magnetization dominates the ground state at any finite temperature.  Note that in considering the $\\beta \\to \\infty$ limit, we will have to be more careful, but we can keep leave that for later.\n",
      "\n",
      "Note that we can also consider the free energy of the excited state.  The free energy of the ground state is $F_{GS} = E - TS = -kT\\ln{2}$ while the the free energy of the excited state is $F_{kink} = 2J - kT\\ln{2(N-1)}$.  We thus have,\n",
      "$$\\Delta F = F_{kink} - F_{GS} = 2J - kT\\ln(N-1) < 0$$\n",
      "for large N at any finite temperature.  So the system can reduce it's free energy by going into an excited state. This is apparently referred to as the proliferation of a topological defect."
     ]
    },
    {
     "cell_type": "heading",
     "level": 5,
     "metadata": {},
     "source": [
      "$\\mathbf{h=0}$ solution"
     ]
    },
    {
     "cell_type": "markdown",
     "metadata": {},
     "source": [
      "The solution in the absence of an external field proceeds in two lines.  By a simple change of variables $\\sigma_i \\sigma_{i+1} \\to t_i$ the system decouples and we can solve for the partition function (try it, it's easy),\n",
      "$$Z = 2(2\\cosh{\\beta J})^{N-1} \\to_N (2\\cosh{\\beta J})^N$$\n",
      "where I have adopted the concise $\\to_N$ to indicate the large N limit.  Hopefully this will suffice for simpler cases.  We can immediately note that this is an analytic function of $\\beta$ (for finite temperatures) and that the free energy is,\n",
      "$$\\frac{F}{N} = -\\frac{1}{\\beta}\\ln{(2\\cosh{\\beta J})}$$"
     ]
    },
    {
     "cell_type": "heading",
     "level": 5,
     "metadata": {},
     "source": [
      "$\\mathbf{h\\neq 0}$ Solution"
     ]
    },
    {
     "cell_type": "markdown",
     "metadata": {},
     "source": [
      "The solution in the presence of an external field is substantially more complicated, but we can get at it by a clever trick.  We first write the Boltzmann weight as,\n",
      "$$\\exp{\\{-\\beta J\\sum_i \\sigma_i \\sigma_{i+1} -\\frac{h\\beta}{2}\\sum_i (\\sigma_i + \\sigma_{i+1})\\} }.$$\n",
      "The summation in the hamiltonian indicates that we can build up the weight as a product of parts that only depend on neighboring spins.  For example, the first multiplicand is,\n",
      "$$T_1 =  \\exp{\\{-\\beta J \\sigma_1 \\sigma_{2} -\\frac{h\\beta}{2} (\\sigma_1 + \\sigma_{2})\\} }.$$\n",
      "The first times the second is then,\n",
      "$$T_1 T_2 = \\exp{\\{-\\beta J (\\sigma_1 \\sigma_{2} +\\sigma_2\\sigma_3 -\\frac{h\\beta}{2} (\\sigma_1 + 2\\sigma_{2} + \\sigma_3)\\} }.$$\n",
      "In order to make this work, we need to pick signs for the spins, and we need to pick them consistently in our various $T$'s.  We could consider each $T$ to be a function of it's spins, and we could then write this product as,\n",
      "$$T(\\sigma_1, \\sigma_2) T(\\sigma_2, \\sigma_3)T(\\sigma_3, \\sigma_4)...$$\n",
      "\n",
      "\n",
      "This gives a single configuration, but for the partition function we want to sum over all of these.  We break this into two parts: first we sum over the internal spins.  Looking at our expression above, if we consider the sigmas as labels, this is just matrix multiplication! (It also suggests we can get higher spin partition functions by using larger matrices or even tensors!) Then we need to take a look at boundary conditions.  Note that in the expression for the first 3 spins above, the first and last spin require an extra factor to complete the partitions function.  This will have to be taken up at the end of the calculation in some ad hoc way.  If we consider periodic boundary conditions, the solution becomes quite elegant.  Our sum over the internal spins gives the matrix $T^N = T_{\\sigma_1 2}T_{23}...T_{N,\\sigma_{N+1}}$ where the first and last index are free.  Periodic boundary conditions correspond to holding the last spin equal to the first and summing over the possibile values.  This is just the trace!  So\n",
      "$$Z_{periodic} = Tr[T^N].$$\n",
      "This quantity is easily reached by diagonalizing $T = S\\Lambda S^{-1}$.  This gives,\n",
      "$$Z = Tr[S \\Lambda^N S^{-1}] = \\lambda_+^N + \\lambda_-^N = \\lambda_+^N ( 1 + \\left(\\frac{\\lambda_-}{\\lambda_+}\\right)^N)\\to_N \\lambda_+^N $$\n",
      "Where $\\lambda_+, \\lambda_-$ are respectively the larger and smaller eigenvalues of $T$.  The free energy of the system can be similarly written as,\n",
      "$$\\frac{F}{N} = -\\frac{1}{\\beta}\\ln \\lambda_+$$\n"
     ]
    },
    {
     "cell_type": "markdown",
     "metadata": {},
     "source": [
      "Given the lengthy introduction, I can now leave it to anyone reading to show that,\n",
      "$$\\lambda_{+/-} = e^{\\beta J}(\\cosh{\\beta h} \\pm \\sqrt{\\sinh^2 \\beta h + e^{-4\\beta J}})$$\n",
      "and as $h\\to 0$, $\\frac{F}{N} \\to$ the zero field free energy.\n",
      "\n",
      "The magnetization shows two important features according to this formula.  Confirm also that\n",
      "$$\\lim_{h\\to 0}M =\\lim_{h\\to 0} -\\frac{\\partial F}{\\partial h} = 0$$\n",
      "at any finite $T$, and that\n",
      "$$\\lim_{\\beta\\to \\infty}M =1$$\n",
      "at any $h$.  This indicates that the magnetization is ill-defined in the limit $T\\to 0\\;h\\to 0$.  This behavior is what is meant by spontaneous symmetry breaking."
     ]
    }
   ],
   "metadata": {}
  }
 ]
}